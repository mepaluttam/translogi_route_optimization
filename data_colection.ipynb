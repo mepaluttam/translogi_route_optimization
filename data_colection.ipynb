{
 "cells": [
  {
   "cell_type": "code",
   "execution_count": 1,
   "id": "38fe89d5-fd7b-45e5-9bad-4eb87b5b7473",
   "metadata": {},
   "outputs": [],
   "source": [
    "import pandas as pd"
   ]
  },
  {
   "cell_type": "code",
   "execution_count": 2,
   "id": "f3037da2-b6ff-497a-b866-a98dbea8289e",
   "metadata": {},
   "outputs": [
    {
     "name": "stderr",
     "output_type": "stream",
     "text": [
      "C:\\Users\\uttam\\AppData\\Local\\Temp\\ipykernel_20504\\621273052.py:1: DtypeWarning: Columns (8,10,11,13,14,15,16) have mixed types. Specify dtype option on import or set low_memory=False.\n",
      "  df1 = pd.read_csv(\"all_cities_edges.csv\")\n"
     ]
    }
   ],
   "source": [
    "df1 = pd.read_csv(\"all_cities_edges.csv\")"
   ]
  },
  {
   "cell_type": "code",
   "execution_count": 3,
   "id": "fe3127a5-91a1-4ae9-b4a5-a57b65479f38",
   "metadata": {},
   "outputs": [],
   "source": [
    "from shapely import wkt"
   ]
  },
  {
   "cell_type": "code",
   "execution_count": 4,
   "id": "92a3c44e-4aff-4791-ad29-b39f8befcd37",
   "metadata": {},
   "outputs": [],
   "source": [
    "df1[\"geometry\"] = df1[\"geometry\"].apply(wkt.loads)"
   ]
  },
  {
   "cell_type": "code",
   "execution_count": 5,
   "id": "58f3c1c6-bf35-4cfe-893e-7e1648adfe4a",
   "metadata": {},
   "outputs": [],
   "source": [
    "df1[\"latitude\"] = df1[\"geometry\"].apply(lambda x: x.coords[0][1])\n",
    "df1[\"longitude\"] = df1[\"geometry\"].apply(lambda x: x.coords[0][0])"
   ]
  },
  {
   "cell_type": "code",
   "execution_count": 6,
   "id": "aecdf4e6-3f1e-4a9b-b7c0-70e6ccb9abae",
   "metadata": {},
   "outputs": [
    {
     "name": "stderr",
     "output_type": "stream",
     "text": [
      "C:\\Users\\uttam\\AppData\\Local\\Temp\\ipykernel_20504\\1735340122.py:1: DtypeWarning: Columns (5,8) have mixed types. Specify dtype option on import or set low_memory=False.\n",
      "  df2 = pd.read_csv(\"all_cities_nodes.csv\")\n"
     ]
    }
   ],
   "source": [
    "df2 = pd.read_csv(\"all_cities_nodes.csv\")"
   ]
  },
  {
   "cell_type": "code",
   "execution_count": 7,
   "id": "1da152ab-bca2-4d02-b678-d7f3dd9547bc",
   "metadata": {},
   "outputs": [],
   "source": [
    "df2.rename(columns={\"x\": \"longitude\", \"y\": \"latitude\"}, inplace=True)"
   ]
  },
  {
   "cell_type": "code",
   "execution_count": 8,
   "id": "de070a27-b3ee-4bb0-85fb-d9c6f135b70d",
   "metadata": {},
   "outputs": [],
   "source": [
    "import geopandas as gpd\n",
    "from shapely.geometry import Point\n"
   ]
  },
  {
   "cell_type": "code",
   "execution_count": 9,
   "id": "8dfc280e-d7da-4eef-b029-cc1a633d2b25",
   "metadata": {},
   "outputs": [
    {
     "name": "stderr",
     "output_type": "stream",
     "text": [
      "C:\\Users\\uttam\\AppData\\Roaming\\Python\\Python313\\site-packages\\geopandas\\array.py:403: UserWarning: Geometry is in a geographic CRS. Results from 'sjoin_nearest' are likely incorrect. Use 'GeoSeries.to_crs()' to re-project geometries to a projected CRS before this operation.\n",
      "\n",
      "  warnings.warn(\n"
     ]
    }
   ],
   "source": [
    "# Convert DataFrames to GeoDataFrames\n",
    "gdf1 = gpd.GeoDataFrame(df1, geometry=gpd.points_from_xy(df1.longitude, df1.latitude))\n",
    "gdf2 = gpd.GeoDataFrame(df2, geometry=gpd.points_from_xy(df2.longitude, df2.latitude))\n",
    "\n",
    "# Set a Coordinate Reference System (CRS) for geographical calculations\n",
    "gdf1.set_crs(epsg=4326, inplace=True)\n",
    "gdf2.set_crs(epsg=4326, inplace=True)\n",
    "\n",
    "# Perform a spatial join (find the nearest point from df2 for each point in df1)\n",
    "merged_gdf = gpd.sjoin_nearest(gdf1, gdf2, how=\"inner\", distance_col=\"distance\")\n",
    "\n",
    "\n",
    "# Select important features\n",
    "important_features = [\n",
    "    \"latitude_right\",\"longitude_right\",\"highway_left\", \"junction_left\", \"lanes\", \"maxspeed\", \"street_count\", \"oneway\",\"city_left\"\n",
    "]\n",
    "\n",
    "final_df = merged_gdf[important_features]"
   ]
  },
  {
   "cell_type": "code",
   "execution_count": 10,
   "id": "a80a18ed-c932-4525-9443-4a67ea37778d",
   "metadata": {},
   "outputs": [
    {
     "name": "stderr",
     "output_type": "stream",
     "text": [
      "C:\\Users\\uttam\\AppData\\Local\\Temp\\ipykernel_20504\\3620179051.py:1: SettingWithCopyWarning: \n",
      "A value is trying to be set on a copy of a slice from a DataFrame.\n",
      "Try using .loc[row_indexer,col_indexer] = value instead\n",
      "\n",
      "See the caveats in the documentation: https://pandas.pydata.org/pandas-docs/stable/user_guide/indexing.html#returning-a-view-versus-a-copy\n",
      "  final_df['lanes'] = pd.to_numeric(final_df['lanes'], errors='coerce')\n",
      "C:\\Users\\uttam\\AppData\\Local\\Temp\\ipykernel_20504\\3620179051.py:2: SettingWithCopyWarning: \n",
      "A value is trying to be set on a copy of a slice from a DataFrame.\n",
      "Try using .loc[row_indexer,col_indexer] = value instead\n",
      "\n",
      "See the caveats in the documentation: https://pandas.pydata.org/pandas-docs/stable/user_guide/indexing.html#returning-a-view-versus-a-copy\n",
      "  final_df['maxspeed'] = pd.to_numeric(final_df['maxspeed'], errors='coerce')\n",
      "C:\\Users\\uttam\\AppData\\Local\\Temp\\ipykernel_20504\\3620179051.py:3: SettingWithCopyWarning: \n",
      "A value is trying to be set on a copy of a slice from a DataFrame.\n",
      "Try using .loc[row_indexer,col_indexer] = value instead\n",
      "\n",
      "See the caveats in the documentation: https://pandas.pydata.org/pandas-docs/stable/user_guide/indexing.html#returning-a-view-versus-a-copy\n",
      "  final_df['street_count'] = pd.to_numeric(final_df['street_count'], errors='coerce')\n",
      "C:\\Users\\uttam\\AppData\\Local\\Temp\\ipykernel_20504\\3620179051.py:4: SettingWithCopyWarning: \n",
      "A value is trying to be set on a copy of a slice from a DataFrame\n",
      "\n",
      "See the caveats in the documentation: https://pandas.pydata.org/pandas-docs/stable/user_guide/indexing.html#returning-a-view-versus-a-copy\n",
      "  final_df.fillna(0, inplace=True)\n"
     ]
    }
   ],
   "source": [
    "final_df['lanes'] = pd.to_numeric(final_df['lanes'], errors='coerce')\n",
    "final_df['maxspeed'] = pd.to_numeric(final_df['maxspeed'], errors='coerce')\n",
    "final_df['street_count'] = pd.to_numeric(final_df['street_count'], errors='coerce')\n",
    "final_df.fillna(0, inplace=True)"
   ]
  },
  {
   "cell_type": "code",
   "execution_count": 11,
   "id": "207866c5-f9cd-4c74-a464-9ea0391903f3",
   "metadata": {},
   "outputs": [
    {
     "name": "stderr",
     "output_type": "stream",
     "text": [
      "C:\\Users\\uttam\\AppData\\Local\\Temp\\ipykernel_20504\\561209829.py:57: SettingWithCopyWarning: \n",
      "A value is trying to be set on a copy of a slice from a DataFrame.\n",
      "Try using .loc[row_indexer,col_indexer] = value instead\n",
      "\n",
      "See the caveats in the documentation: https://pandas.pydata.org/pandas-docs/stable/user_guide/indexing.html#returning-a-view-versus-a-copy\n",
      "  final_df['traffic_level_category'] = final_df.apply(categorize_traffic, axis=1)\n"
     ]
    },
    {
     "data": {
      "text/html": [
       "<div>\n",
       "<style scoped>\n",
       "    .dataframe tbody tr th:only-of-type {\n",
       "        vertical-align: middle;\n",
       "    }\n",
       "\n",
       "    .dataframe tbody tr th {\n",
       "        vertical-align: top;\n",
       "    }\n",
       "\n",
       "    .dataframe thead th {\n",
       "        text-align: right;\n",
       "    }\n",
       "</style>\n",
       "<table border=\"1\" class=\"dataframe\">\n",
       "  <thead>\n",
       "    <tr style=\"text-align: right;\">\n",
       "      <th></th>\n",
       "      <th>latitude_right</th>\n",
       "      <th>longitude_right</th>\n",
       "      <th>highway_left</th>\n",
       "      <th>junction_left</th>\n",
       "      <th>lanes</th>\n",
       "      <th>maxspeed</th>\n",
       "      <th>street_count</th>\n",
       "      <th>oneway</th>\n",
       "      <th>city_left</th>\n",
       "      <th>traffic_level_category</th>\n",
       "    </tr>\n",
       "  </thead>\n",
       "  <tbody>\n",
       "    <tr>\n",
       "      <th>0</th>\n",
       "      <td>28.559390</td>\n",
       "      <td>77.171000</td>\n",
       "      <td>primary</td>\n",
       "      <td>0</td>\n",
       "      <td>0.0</td>\n",
       "      <td>0.0</td>\n",
       "      <td>4</td>\n",
       "      <td>True</td>\n",
       "      <td>Delhi</td>\n",
       "      <td>Medium</td>\n",
       "    </tr>\n",
       "    <tr>\n",
       "      <th>1</th>\n",
       "      <td>28.559390</td>\n",
       "      <td>77.171000</td>\n",
       "      <td>secondary</td>\n",
       "      <td>0</td>\n",
       "      <td>0.0</td>\n",
       "      <td>0.0</td>\n",
       "      <td>4</td>\n",
       "      <td>True</td>\n",
       "      <td>Delhi</td>\n",
       "      <td>Medium</td>\n",
       "    </tr>\n",
       "    <tr>\n",
       "      <th>2</th>\n",
       "      <td>28.580619</td>\n",
       "      <td>77.174953</td>\n",
       "      <td>residential</td>\n",
       "      <td>0</td>\n",
       "      <td>0.0</td>\n",
       "      <td>0.0</td>\n",
       "      <td>4</td>\n",
       "      <td>False</td>\n",
       "      <td>Delhi</td>\n",
       "      <td>High</td>\n",
       "    </tr>\n",
       "    <tr>\n",
       "      <th>3</th>\n",
       "      <td>28.580619</td>\n",
       "      <td>77.174953</td>\n",
       "      <td>primary_link</td>\n",
       "      <td>0</td>\n",
       "      <td>0.0</td>\n",
       "      <td>0.0</td>\n",
       "      <td>4</td>\n",
       "      <td>True</td>\n",
       "      <td>Delhi</td>\n",
       "      <td>Medium</td>\n",
       "    </tr>\n",
       "    <tr>\n",
       "      <th>4</th>\n",
       "      <td>28.580619</td>\n",
       "      <td>77.174953</td>\n",
       "      <td>trunk</td>\n",
       "      <td>0</td>\n",
       "      <td>0.0</td>\n",
       "      <td>0.0</td>\n",
       "      <td>4</td>\n",
       "      <td>True</td>\n",
       "      <td>Delhi</td>\n",
       "      <td>Medium</td>\n",
       "    </tr>\n",
       "    <tr>\n",
       "      <th>...</th>\n",
       "      <td>...</td>\n",
       "      <td>...</td>\n",
       "      <td>...</td>\n",
       "      <td>...</td>\n",
       "      <td>...</td>\n",
       "      <td>...</td>\n",
       "      <td>...</td>\n",
       "      <td>...</td>\n",
       "      <td>...</td>\n",
       "      <td>...</td>\n",
       "    </tr>\n",
       "    <tr>\n",
       "      <th>1151561</th>\n",
       "      <td>12.896824</td>\n",
       "      <td>77.547741</td>\n",
       "      <td>residential</td>\n",
       "      <td>0</td>\n",
       "      <td>0.0</td>\n",
       "      <td>0.0</td>\n",
       "      <td>1</td>\n",
       "      <td>False</td>\n",
       "      <td>Bengaluru</td>\n",
       "      <td>High</td>\n",
       "    </tr>\n",
       "    <tr>\n",
       "      <th>1151562</th>\n",
       "      <td>12.984290</td>\n",
       "      <td>77.582681</td>\n",
       "      <td>secondary</td>\n",
       "      <td>0</td>\n",
       "      <td>3.0</td>\n",
       "      <td>30.0</td>\n",
       "      <td>3</td>\n",
       "      <td>True</td>\n",
       "      <td>Bengaluru</td>\n",
       "      <td>Medium</td>\n",
       "    </tr>\n",
       "    <tr>\n",
       "      <th>1151563</th>\n",
       "      <td>13.070294</td>\n",
       "      <td>77.501688</td>\n",
       "      <td>residential</td>\n",
       "      <td>0</td>\n",
       "      <td>0.0</td>\n",
       "      <td>0.0</td>\n",
       "      <td>3</td>\n",
       "      <td>False</td>\n",
       "      <td>Bengaluru</td>\n",
       "      <td>High</td>\n",
       "    </tr>\n",
       "    <tr>\n",
       "      <th>1151564</th>\n",
       "      <td>13.070294</td>\n",
       "      <td>77.501688</td>\n",
       "      <td>residential</td>\n",
       "      <td>0</td>\n",
       "      <td>0.0</td>\n",
       "      <td>0.0</td>\n",
       "      <td>3</td>\n",
       "      <td>False</td>\n",
       "      <td>Bengaluru</td>\n",
       "      <td>High</td>\n",
       "    </tr>\n",
       "    <tr>\n",
       "      <th>1151565</th>\n",
       "      <td>13.070294</td>\n",
       "      <td>77.501688</td>\n",
       "      <td>residential</td>\n",
       "      <td>0</td>\n",
       "      <td>0.0</td>\n",
       "      <td>0.0</td>\n",
       "      <td>3</td>\n",
       "      <td>False</td>\n",
       "      <td>Bengaluru</td>\n",
       "      <td>High</td>\n",
       "    </tr>\n",
       "  </tbody>\n",
       "</table>\n",
       "<p>1151566 rows × 10 columns</p>\n",
       "</div>"
      ],
      "text/plain": [
       "         latitude_right  longitude_right  highway_left junction_left  lanes  \\\n",
       "0             28.559390        77.171000       primary             0    0.0   \n",
       "1             28.559390        77.171000     secondary             0    0.0   \n",
       "2             28.580619        77.174953   residential             0    0.0   \n",
       "3             28.580619        77.174953  primary_link             0    0.0   \n",
       "4             28.580619        77.174953         trunk             0    0.0   \n",
       "...                 ...              ...           ...           ...    ...   \n",
       "1151561       12.896824        77.547741   residential             0    0.0   \n",
       "1151562       12.984290        77.582681     secondary             0    3.0   \n",
       "1151563       13.070294        77.501688   residential             0    0.0   \n",
       "1151564       13.070294        77.501688   residential             0    0.0   \n",
       "1151565       13.070294        77.501688   residential             0    0.0   \n",
       "\n",
       "         maxspeed  street_count  oneway  city_left traffic_level_category  \n",
       "0             0.0             4    True      Delhi                 Medium  \n",
       "1             0.0             4    True      Delhi                 Medium  \n",
       "2             0.0             4   False      Delhi                   High  \n",
       "3             0.0             4    True      Delhi                 Medium  \n",
       "4             0.0             4    True      Delhi                 Medium  \n",
       "...           ...           ...     ...        ...                    ...  \n",
       "1151561       0.0             1   False  Bengaluru                   High  \n",
       "1151562      30.0             3    True  Bengaluru                 Medium  \n",
       "1151563       0.0             3   False  Bengaluru                   High  \n",
       "1151564       0.0             3   False  Bengaluru                   High  \n",
       "1151565       0.0             3   False  Bengaluru                   High  \n",
       "\n",
       "[1151566 rows x 10 columns]"
      ]
     },
     "execution_count": 11,
     "metadata": {},
     "output_type": "execute_result"
    }
   ],
   "source": [
    "def categorize_traffic(row):\n",
    "    # Road Type Weighting\n",
    "    if row['highway_left'] in ['residential', 'living_street', 'unclassified']:\n",
    "        road_score = 3  # High congestion\n",
    "    elif row['highway_left'] in ['primary', 'secondary', 'tertiary']:\n",
    "        road_score = 2  # Medium congestion\n",
    "    else:\n",
    "        road_score = 1  # Low congestion\n",
    "    \n",
    "    # Lane Contribution\n",
    "    if row['lanes'] >= 4:\n",
    "        lane_score = 1  # Low congestion\n",
    "    elif row['lanes'] in [2, 3]:\n",
    "        lane_score = 2  # Medium congestion\n",
    "    else:\n",
    "        lane_score = 3  # High congestion\n",
    "\n",
    "    # Junction Contribution\n",
    "    if row['junction_left'] == 'roundabout':\n",
    "        junction_score = 2  # Medium congestion\n",
    "    elif row['junction_left'] in ['circular', 'turnaround']:\n",
    "        junction_score = 3  # High congestion\n",
    "    else:\n",
    "        junction_score = 1  # Low congestion\n",
    "    \n",
    "    # Speed Limit Contribution\n",
    "    if row['maxspeed'] >= 60:\n",
    "        speed_score = 1  # Low congestion\n",
    "    elif 30 <= row['maxspeed'] < 60:\n",
    "        speed_score = 2  # Medium congestion\n",
    "    else:\n",
    "        speed_score = 3  # High congestion\n",
    "\n",
    "    # Street Count Contribution\n",
    "    if row['street_count'] >= 5:\n",
    "        street_score = 3  # High congestion\n",
    "    elif row['street_count'] in [3, 4]:\n",
    "        street_score = 2  # Medium congestion\n",
    "    else:\n",
    "        street_score = 1  # Low congestion\n",
    "\n",
    "    # Oneway Impact\n",
    "    oneway_score = 1 if row['oneway'] else 3  # Oneway roads reduce congestion\n",
    "\n",
    "    # Overall Traffic Score\n",
    "    total_score = road_score + lane_score + junction_score + speed_score + street_score + oneway_score\n",
    "\n",
    "    # Define thresholds\n",
    "    if total_score <= 7:\n",
    "        return \"Low\"\n",
    "    elif total_score <= 12:\n",
    "        return \"Medium\"\n",
    "    else:\n",
    "        return \"High\"\n",
    "\n",
    "# Assuming your DataFrame is named `df`\n",
    "final_df['traffic_level_category'] = final_df.apply(categorize_traffic, axis=1)\n",
    "\n",
    "# Display categorized traffic levels\n",
    "final_df"
   ]
  },
  {
   "cell_type": "code",
   "execution_count": 12,
   "id": "36dc6d60-d67c-4121-9c1e-4d452172c87b",
   "metadata": {},
   "outputs": [
    {
     "name": "stderr",
     "output_type": "stream",
     "text": [
      "C:\\Users\\uttam\\AppData\\Local\\Temp\\ipykernel_20504\\2455119012.py:1: SettingWithCopyWarning: \n",
      "A value is trying to be set on a copy of a slice from a DataFrame\n",
      "\n",
      "See the caveats in the documentation: https://pandas.pydata.org/pandas-docs/stable/user_guide/indexing.html#returning-a-view-versus-a-copy\n",
      "  final_df.drop(columns=[\"highway_left\", \"junction_left\", \"lanes\", \"maxspeed\", \"street_count\", \"oneway\",\"city_left\"], inplace=True)\n"
     ]
    }
   ],
   "source": [
    "final_df.drop(columns=[\"highway_left\", \"junction_left\", \"lanes\", \"maxspeed\", \"street_count\", \"oneway\",\"city_left\"], inplace=True)"
   ]
  },
  {
   "cell_type": "code",
   "execution_count": 13,
   "id": "3aff866f-3797-4811-8317-018825bf77a1",
   "metadata": {},
   "outputs": [],
   "source": [
    "delivery = pd.read_csv(\"indian_delivery_transactions.csv\")"
   ]
  },
  {
   "cell_type": "code",
   "execution_count": 15,
   "id": "0e959e98-c185-4428-b3cb-a969a2215a4c",
   "metadata": {},
   "outputs": [
    {
     "name": "stderr",
     "output_type": "stream",
     "text": [
      "C:\\Users\\uttam\\AppData\\Roaming\\Python\\Python313\\site-packages\\geopandas\\array.py:403: UserWarning: Geometry is in a geographic CRS. Results from 'sjoin_nearest' are likely incorrect. Use 'GeoSeries.to_crs()' to re-project geometries to a projected CRS before this operation.\n",
      "\n",
      "  warnings.warn(\n"
     ]
    }
   ],
   "source": [
    "\n",
    "# Create GeoDataFrames from the provided datasets\n",
    "delivery_gdf = gpd.GeoDataFrame(delivery, geometry=gpd.points_from_xy(delivery.delivery_lon, delivery.delivery_lat))\n",
    "fin_df = gpd.GeoDataFrame(final_df, geometry=gpd.points_from_xy(final_df.longitude_right, final_df.latitude_right))\n",
    "\n",
    "# Set the Coordinate Reference System (CRS) for geographical calculations\n",
    "delivery_gdf.set_crs(epsg=4326, inplace=True)\n",
    "fin_df.set_crs(epsg=4326, inplace=True)\n",
    "\n",
    "\n",
    "\n",
    "# Perform the first spatial join: finding the nearest point from `wemer` for each point in `fdf`\n",
    "merged_gdf5 = delivery_gdf.sjoin_nearest(fin_df, how=\"inner\")\n",
    "\n",
    "\n",
    "# # Optionally, drop the geometry column if it's not needed\n",
    "# final_gdf = final_gdf.drop(columns=[\"geometry\"])\n",
    "\n",
    "# # Display the final merged GeoDataFrame\n",
    "# print(final_gdf.head())\n",
    "\n"
   ]
  },
  {
   "cell_type": "code",
   "execution_count": 16,
   "id": "17b87491-b60b-491c-b6ff-ba3584fcc695",
   "metadata": {},
   "outputs": [],
   "source": [
    "merged_gdf5 = merged_gdf5.drop_duplicates(subset=\"transaction_id\", keep=\"first\")\n",
    "merged_gdf5=merged_gdf5.drop(columns=['geometry', 'index_right'])"
   ]
  },
  {
   "cell_type": "code",
   "execution_count": 19,
   "id": "5bde7d55-5944-415c-a0f2-a14b9d2bda22",
   "metadata": {},
   "outputs": [],
   "source": [
    "weather_merge = pd.read_csv(\"india_weather_final_20250129_194528.csv\")\n",
    "weather_merge= weather_merge[[\"latitude\",\"longitude\",\"weather_main\",\"temperature\"]]"
   ]
  },
  {
   "cell_type": "code",
   "execution_count": 21,
   "id": "ba37fa92-aa13-44c0-b157-e62800d00615",
   "metadata": {},
   "outputs": [
    {
     "name": "stderr",
     "output_type": "stream",
     "text": [
      "C:\\Users\\uttam\\AppData\\Roaming\\Python\\Python313\\site-packages\\geopandas\\array.py:403: UserWarning: Geometry is in a geographic CRS. Results from 'sjoin_nearest' are likely incorrect. Use 'GeoSeries.to_crs()' to re-project geometries to a projected CRS before this operation.\n",
      "\n",
      "  warnings.warn(\n"
     ]
    }
   ],
   "source": [
    "delivery_gdf = gpd.GeoDataFrame(delivery, geometry=gpd.points_from_xy(delivery.delivery_lon, delivery.delivery_lat))\n",
    "wemer = gpd.GeoDataFrame(weather_merge, geometry=gpd.points_from_xy(weather_merge.longitude, weather_merge.latitude))\n",
    "\n",
    "# Set the Coordinate Reference System (CRS) for geographical calculations\n",
    "delivery_gdf.set_crs(epsg=4326, inplace=True)\n",
    "wemer.set_crs(epsg=4326, inplace=True)\n",
    "\n",
    "\n",
    "\n",
    "# Perform the first spatial join: finding the nearest point from `wemer` for each point in `fdf`\n",
    "merged_gdf1 = delivery_gdf.sjoin_nearest(wemer, how=\"inner\")"
   ]
  },
  {
   "cell_type": "code",
   "execution_count": 22,
   "id": "88a4799d-97f5-491a-8179-79b4c744bf79",
   "metadata": {},
   "outputs": [],
   "source": [
    "merged_gdf1=merged_gdf1.drop(columns=['geometry', 'index_right'])"
   ]
  },
  {
   "cell_type": "code",
   "execution_count": 23,
   "id": "8e51c672-52d2-4c57-9f88-7cec7f1b79e9",
   "metadata": {},
   "outputs": [],
   "source": [
    "x = merged_gdf1\n",
    "y = merged_gdf5\n",
    "y_selected_cols = [col for col in y.columns if col not in x.columns] + ['transaction_id']\n",
    "z = x.merge(y[y_selected_cols], on='transaction_id', how='left')\n",
    "z = z.drop(columns=['latitude_right', 'longitude_right','latitude','longitude'])\n",
    "z.to_csv(\"start_data.csv\", index=False)"
   ]
  },
  {
   "cell_type": "code",
   "execution_count": null,
   "id": "6ed769ec-df9c-4174-afde-8786d50a1ddf",
   "metadata": {},
   "outputs": [],
   "source": []
  }
 ],
 "metadata": {
  "kernelspec": {
   "display_name": "Python (myenv)",
   "language": "python",
   "name": "myenv"
  },
  "language_info": {
   "codemirror_mode": {
    "name": "ipython",
    "version": 3
   },
   "file_extension": ".py",
   "mimetype": "text/x-python",
   "name": "python",
   "nbconvert_exporter": "python",
   "pygments_lexer": "ipython3",
   "version": "3.13.0"
  }
 },
 "nbformat": 4,
 "nbformat_minor": 5
}
